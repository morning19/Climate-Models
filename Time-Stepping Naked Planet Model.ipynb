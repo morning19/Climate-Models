{
 "cells": [
  {
   "cell_type": "code",
   "execution_count": 10,
   "metadata": {},
   "outputs": [],
   "source": [
    "import numpy\n",
    "import matplotlib.pyplot"
   ]
  },
  {
   "cell_type": "code",
   "execution_count": 27,
   "metadata": {},
   "outputs": [],
   "source": [
    "#dHeatContent/dt = L*(1-alpha)/4 - epsilon * sigma * T^4\n",
    "#T[K] = HeatContent [J/m2] / HeatCapacity [J/m2 K]\n",
    "#HeatContent(t+1) = HeatContent(t) + dHeatContent/dT * TimeStep\n",
    "\n",
    "nSteps = 100 #years   int(input(\"\"))\n",
    "waterDepth = 4000 #meters\n",
    "L = 1350 # Watts/m2\n",
    "albedo = 0.3\n",
    "epsilon = 1 #blackbody\n",
    "sigma = 5.67E-8 #W/m2 K4\n",
    "HeatCapacity = 4180000*waterDepth #J/(m2*K)\n",
    "en_in = 236.25 #energy in(not change through the simulation) W/m2\n",
    "\n",
    "HeatContent = 0\n",
    "time_list = [0]\n",
    "temp_list = [0]\n",
    "time = 0\n",
    "temp = 0\n",
    "while time_list[-1]<1500:\n",
    "    T = pow(temp_list[-1],4)\n",
    "    en_out = epsilon * sigma * T\n",
    "    HeatFlux = en_in - en_out\n",
    "    HeatContent = HeatContent + HeatFlux * nSteps * 365 *86400\n",
    "    temp =  HeatContent/HeatCapacity\n",
    "    temp_list.append(temp)\n",
    "    time = time + nSteps\n",
    "    time_list.append(time)"
   ]
  },
  {
   "cell_type": "code",
   "execution_count": 28,
   "metadata": {},
   "outputs": [
    {
     "data": {
      "text/plain": [
       "[0,\n",
       " 100,\n",
       " 200,\n",
       " 300,\n",
       " 400,\n",
       " 500,\n",
       " 600,\n",
       " 700,\n",
       " 800,\n",
       " 900,\n",
       " 1000,\n",
       " 1100,\n",
       " 1200,\n",
       " 1300,\n",
       " 1400,\n",
       " 1500]"
      ]
     },
     "execution_count": 28,
     "metadata": {},
     "output_type": "execute_result"
    }
   ],
   "source": [
    "time_list"
   ]
  },
  {
   "cell_type": "code",
   "execution_count": 29,
   "metadata": {},
   "outputs": [
    {
     "data": {
      "text/plain": [
       "[0,\n",
       " 44.55968899521531,\n",
       " 89.07721591345852,\n",
       " 132.96358736260467,\n",
       " 174.1806772860273,\n",
       " 208.8967813570557,\n",
       " 233.0916592181997,\n",
       " 246.08238449351387,\n",
       " 251.42497144520794,\n",
       " 253.2493335179616,\n",
       " 253.81976444998654,\n",
       " 253.99252023779647,\n",
       " 254.04430937320208,\n",
       " 254.05978671896827,\n",
       " 254.06440786136525,\n",
       " 254.0657872324707]"
      ]
     },
     "execution_count": 29,
     "metadata": {},
     "output_type": "execute_result"
    }
   ],
   "source": [
    "temp_list"
   ]
  },
  {
   "cell_type": "code",
   "execution_count": 30,
   "metadata": {},
   "outputs": [
    {
     "data": {
      "image/png": "[encoded data removed]",
      "text/plain": [
       "<Figure size 432x288 with 1 Axes>"
      ]
     },
     "metadata": {
      "needs_background": "light"
     },
     "output_type": "display_data"
    }
   ],
   "source": [
    "matplotlib.pyplot.plot(time_list, temp_list)\n",
    "matplotlib.pyplot.show()"
   ]
  },
  {
   "cell_type": "code",
   "execution_count": 31,
   "metadata": {},
   "outputs": [
    {
     "name": "stdout",
     "output_type": "stream",
     "text": [
      "1400 236.2426867437584\n"
     ]
    }
   ],
   "source": [
    "print(time_list[-2], en_out)"
   ]
  },
  {
   "cell_type": "code",
   "execution_count": null,
   "metadata": {},
   "outputs": [],
   "source": []
  }
 ],
 "metadata": {
  "kernelspec": {
   "display_name": "Python 3",
   "language": "python",
   "name": "python3"
  },
  "language_info": {
   "codemirror_mode": {
    "name": "ipython",
    "version": 3
   },
   "file_extension": ".py",
   "mimetype": "text/x-python",
   "name": "python",
   "nbconvert_exporter": "python",
   "pygments_lexer": "ipython3",
   "version": "3.7.3"
  }
 },
 "nbformat": 4,
 "nbformat_minor": 2
}
